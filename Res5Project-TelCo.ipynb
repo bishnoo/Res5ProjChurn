{
 "cells": [
  {
   "cell_type": "markdown",
   "metadata": {},
   "source": [
    "TelCo is very concerned about the its customers discontinuing with the service and opting to move to the one provided by the competitors. It is a major phenomenon in the service industry and is called ‘Churn’.  The company thinks that there are early indications available in the way a customer uses its service in predicting whether he/she is likely to churn. The file churn.csv contains some of the measures tracked by the company to see if it can predict the customers who are likely to churn and then take proactive action. It is your task to perform exploratory data analysis on this data and ascertain if the data still has power to predict churn. If indeed such power exists, which variables have the capability to predict churn."
   ]
  },
  {
   "cell_type": "markdown",
   "metadata": {},
   "source": [
    "Attribute information:\n",
    "\n",
    "Account.Length: how long account has been active.\n",
    "\n",
    "VMail.Message: Number of voice mail messages send by the customer.\n",
    "\n",
    "Day.Mins: Time spent on day calls.\n",
    "\n",
    "Eve.Mins: Time spent on evening calls.\n",
    "\n",
    "Night.Mins: Time spent on night calls.\n",
    "\n",
    "Intl. Mins: Time spent on international calls.\n",
    "\n",
    "Day.Calls: Number of day calls by customers.\n",
    "\n",
    "Eve.Calls: Number of evening calls by customers.\n",
    "\n",
    "Intl.Calls: Number of international calls.\n",
    "\n",
    "Night.Calls: Number of night calls by customer.\n",
    "\n",
    "Day.Charge: Charges of Day Calls.\n",
    "\n",
    "Night.Charge: Charges of Night Calls.\n",
    "\n",
    "Eve.Charge: Charges of evening Calls.\n",
    "\n",
    "Intl.Charge: Charges of international calls.\n",
    "\n",
    "VMail.Plan: Voice mail plan taken by the customer or not.\n",
    "\n",
    "State: State in Area of study.\n",
    "\n",
    "Phone: Phone number of the customer.\n",
    "\n",
    "Area.Code: Area Code of customer.\n",
    "\n",
    "Int.l.Plan: Does customer have international plan or not.\n",
    "\n",
    "CustServ.Calls: Number of customer service calls by customer.\n",
    "\n",
    "Churn : Customers who churned the telecom service or who doesn’t(0=“Churner”, 1=“Non-Churner”)\n"
   ]
  },
  {
   "cell_type": "markdown",
   "metadata": {},
   "source": [
    "Steps:\n",
    "\n",
    "Pre-processing, EDA and removing of outliers from data (2.5 points)\n",
    "Use Decision tree and optimize the depth of the tree and leaf nodes (hyper parameters tuning) to come up with the best model (7.5 points)\n",
    "Over the same decision tree model apply gradient boosting and check the precision/ recall (7.5 points)\n",
    "Apply Random forest method over the model and print the confusion matrix (5 points)\n",
    "Tabulate the accuracy of all the 3 models and describe which model performs the best and why? (2.5 points)"
   ]
  },
  {
   "cell_type": "code",
   "execution_count": 1,
   "metadata": {
    "collapsed": true
   },
   "outputs": [],
   "source": [
    "#Import Libraries\n",
    "import pandas as pd\n",
    "import numpy as np\n",
    "\n",
    "%matplotlib inline \n",
    "\n",
    "import matplotlib\n",
    "import matplotlib.pyplot as plt \n",
    "\n",
    "import warnings\n",
    "warnings.filterwarnings('ignore')\n"
   ]
  },
  {
   "cell_type": "markdown",
   "metadata": {},
   "source": [
    "# Pre-processing, EDA and removing of outliers from data"
   ]
  },
  {
   "cell_type": "code",
   "execution_count": 4,
   "metadata": {},
   "outputs": [
    {
     "data": {
      "text/html": [
       "<div>\n",
       "<style scoped>\n",
       "    .dataframe tbody tr th:only-of-type {\n",
       "        vertical-align: middle;\n",
       "    }\n",
       "\n",
       "    .dataframe tbody tr th {\n",
       "        vertical-align: top;\n",
       "    }\n",
       "\n",
       "    .dataframe thead th {\n",
       "        text-align: right;\n",
       "    }\n",
       "</style>\n",
       "<table border=\"1\" class=\"dataframe\">\n",
       "  <thead>\n",
       "    <tr style=\"text-align: right;\">\n",
       "      <th></th>\n",
       "      <th>AccountLength</th>\n",
       "      <th>VMailMessage</th>\n",
       "      <th>DayMins</th>\n",
       "      <th>EveMins</th>\n",
       "      <th>NightMins</th>\n",
       "      <th>IntlMins</th>\n",
       "      <th>CustServCalls</th>\n",
       "      <th>Churn</th>\n",
       "      <th>IntlPlan</th>\n",
       "      <th>VMailPlan</th>\n",
       "      <th>...</th>\n",
       "      <th>DayCharge</th>\n",
       "      <th>EveCalls</th>\n",
       "      <th>EveCharge</th>\n",
       "      <th>NightCalls</th>\n",
       "      <th>NightCharge</th>\n",
       "      <th>IntlCalls</th>\n",
       "      <th>IntlCharge</th>\n",
       "      <th>State</th>\n",
       "      <th>AreaCode</th>\n",
       "      <th>Phone</th>\n",
       "    </tr>\n",
       "  </thead>\n",
       "  <tbody>\n",
       "    <tr>\n",
       "      <th>3328</th>\n",
       "      <td>192</td>\n",
       "      <td>36</td>\n",
       "      <td>156.2</td>\n",
       "      <td>215.5</td>\n",
       "      <td>279.1</td>\n",
       "      <td>9.9</td>\n",
       "      <td>2</td>\n",
       "      <td>0</td>\n",
       "      <td>0</td>\n",
       "      <td>1</td>\n",
       "      <td>...</td>\n",
       "      <td>26.55</td>\n",
       "      <td>126</td>\n",
       "      <td>18.32</td>\n",
       "      <td>83</td>\n",
       "      <td>12.56</td>\n",
       "      <td>6</td>\n",
       "      <td>2.67</td>\n",
       "      <td>AZ</td>\n",
       "      <td>415</td>\n",
       "      <td>414-4276</td>\n",
       "    </tr>\n",
       "    <tr>\n",
       "      <th>3329</th>\n",
       "      <td>68</td>\n",
       "      <td>0</td>\n",
       "      <td>231.1</td>\n",
       "      <td>153.4</td>\n",
       "      <td>191.3</td>\n",
       "      <td>9.6</td>\n",
       "      <td>3</td>\n",
       "      <td>0</td>\n",
       "      <td>0</td>\n",
       "      <td>0</td>\n",
       "      <td>...</td>\n",
       "      <td>39.29</td>\n",
       "      <td>55</td>\n",
       "      <td>13.04</td>\n",
       "      <td>123</td>\n",
       "      <td>8.61</td>\n",
       "      <td>4</td>\n",
       "      <td>2.59</td>\n",
       "      <td>WV</td>\n",
       "      <td>415</td>\n",
       "      <td>370-3271</td>\n",
       "    </tr>\n",
       "    <tr>\n",
       "      <th>3330</th>\n",
       "      <td>28</td>\n",
       "      <td>0</td>\n",
       "      <td>180.8</td>\n",
       "      <td>288.8</td>\n",
       "      <td>191.9</td>\n",
       "      <td>14.1</td>\n",
       "      <td>2</td>\n",
       "      <td>0</td>\n",
       "      <td>0</td>\n",
       "      <td>0</td>\n",
       "      <td>...</td>\n",
       "      <td>30.74</td>\n",
       "      <td>58</td>\n",
       "      <td>24.55</td>\n",
       "      <td>91</td>\n",
       "      <td>8.64</td>\n",
       "      <td>6</td>\n",
       "      <td>3.81</td>\n",
       "      <td>RI</td>\n",
       "      <td>510</td>\n",
       "      <td>328-8230</td>\n",
       "    </tr>\n",
       "    <tr>\n",
       "      <th>3331</th>\n",
       "      <td>184</td>\n",
       "      <td>0</td>\n",
       "      <td>213.8</td>\n",
       "      <td>159.6</td>\n",
       "      <td>139.2</td>\n",
       "      <td>5.0</td>\n",
       "      <td>2</td>\n",
       "      <td>0</td>\n",
       "      <td>1</td>\n",
       "      <td>0</td>\n",
       "      <td>...</td>\n",
       "      <td>36.35</td>\n",
       "      <td>84</td>\n",
       "      <td>13.57</td>\n",
       "      <td>137</td>\n",
       "      <td>6.26</td>\n",
       "      <td>10</td>\n",
       "      <td>1.35</td>\n",
       "      <td>CT</td>\n",
       "      <td>510</td>\n",
       "      <td>364-6381</td>\n",
       "    </tr>\n",
       "    <tr>\n",
       "      <th>3332</th>\n",
       "      <td>74</td>\n",
       "      <td>25</td>\n",
       "      <td>234.4</td>\n",
       "      <td>265.9</td>\n",
       "      <td>241.4</td>\n",
       "      <td>13.7</td>\n",
       "      <td>0</td>\n",
       "      <td>0</td>\n",
       "      <td>0</td>\n",
       "      <td>1</td>\n",
       "      <td>...</td>\n",
       "      <td>39.85</td>\n",
       "      <td>82</td>\n",
       "      <td>22.60</td>\n",
       "      <td>77</td>\n",
       "      <td>10.86</td>\n",
       "      <td>4</td>\n",
       "      <td>3.70</td>\n",
       "      <td>TN</td>\n",
       "      <td>415</td>\n",
       "      <td>400-4344</td>\n",
       "    </tr>\n",
       "  </tbody>\n",
       "</table>\n",
       "<p>5 rows × 21 columns</p>\n",
       "</div>"
      ],
      "text/plain": [
       "      AccountLength  VMailMessage  DayMins  EveMins  NightMins  IntlMins  \\\n",
       "3328            192            36    156.2    215.5      279.1       9.9   \n",
       "3329             68             0    231.1    153.4      191.3       9.6   \n",
       "3330             28             0    180.8    288.8      191.9      14.1   \n",
       "3331            184             0    213.8    159.6      139.2       5.0   \n",
       "3332             74            25    234.4    265.9      241.4      13.7   \n",
       "\n",
       "      CustServCalls  Churn  IntlPlan  VMailPlan    ...     DayCharge  \\\n",
       "3328              2      0         0          1    ...         26.55   \n",
       "3329              3      0         0          0    ...         39.29   \n",
       "3330              2      0         0          0    ...         30.74   \n",
       "3331              2      0         1          0    ...         36.35   \n",
       "3332              0      0         0          1    ...         39.85   \n",
       "\n",
       "      EveCalls  EveCharge  NightCalls  NightCharge  IntlCalls  IntlCharge  \\\n",
       "3328       126      18.32          83        12.56          6        2.67   \n",
       "3329        55      13.04         123         8.61          4        2.59   \n",
       "3330        58      24.55          91         8.64          6        3.81   \n",
       "3331        84      13.57         137         6.26         10        1.35   \n",
       "3332        82      22.60          77        10.86          4        3.70   \n",
       "\n",
       "      State AreaCode     Phone  \n",
       "3328     AZ      415  414-4276  \n",
       "3329     WV      415  370-3271  \n",
       "3330     RI      510  328-8230  \n",
       "3331     CT      510  364-6381  \n",
       "3332     TN      415  400-4344  \n",
       "\n",
       "[5 rows x 21 columns]"
      ]
     },
     "execution_count": 4,
     "metadata": {},
     "output_type": "execute_result"
    }
   ],
   "source": [
    "churn_df = pd.read_csv(\"Churn.csv\")\n",
    "churn_df.tail(5)"
   ]
  },
  {
   "cell_type": "code",
   "execution_count": 5,
   "metadata": {},
   "outputs": [
    {
     "data": {
      "text/plain": [
       "AccountLength      int64\n",
       "VMailMessage       int64\n",
       "DayMins          float64\n",
       "EveMins          float64\n",
       "NightMins        float64\n",
       "IntlMins         float64\n",
       "CustServCalls      int64\n",
       "Churn              int64\n",
       "IntlPlan           int64\n",
       "VMailPlan          int64\n",
       "DayCalls           int64\n",
       "DayCharge        float64\n",
       "EveCalls           int64\n",
       "EveCharge        float64\n",
       "NightCalls         int64\n",
       "NightCharge      float64\n",
       "IntlCalls          int64\n",
       "IntlCharge       float64\n",
       "State             object\n",
       "AreaCode           int64\n",
       "Phone             object\n",
       "dtype: object"
      ]
     },
     "execution_count": 5,
     "metadata": {},
     "output_type": "execute_result"
    }
   ],
   "source": [
    "churn_df.dtypes"
   ]
  },
  {
   "cell_type": "code",
   "execution_count": 6,
   "metadata": {},
   "outputs": [
    {
     "data": {
      "text/plain": [
       "Series([], dtype: float64)"
      ]
     },
     "execution_count": 6,
     "metadata": {},
     "output_type": "execute_result"
    }
   ],
   "source": [
    "missing_values=churn_df.columns[churn_df.isnull().any()]\n",
    "churn_df[missing_values].isnull().sum()"
   ]
  },
  {
   "cell_type": "markdown",
   "metadata": {},
   "source": [
    "### No missing values"
   ]
  },
  {
   "cell_type": "code",
   "execution_count": 7,
   "metadata": {
    "collapsed": true
   },
   "outputs": [],
   "source": [
    "df2 = churn_df.drop([\"State\",\"Phone\",\"AreaCode\"],axis=1)"
   ]
  },
  {
   "cell_type": "markdown",
   "metadata": {},
   "source": [
    "### As Tree based methods are insensitive to outliers,there is no necessity to remove outliers!"
   ]
  },
  {
   "cell_type": "code",
   "execution_count": 8,
   "metadata": {},
   "outputs": [
    {
     "name": "stdout",
     "output_type": "stream",
     "text": [
      "Index(['DayMins', 'CustServCalls', 'Churn', 'IntlPlan', 'DayCharge',\n",
      "       'IntlCharge'],\n",
      "      dtype='object')\n",
      "6\n"
     ]
    },
    {
     "data": {
      "text/html": [
       "<div>\n",
       "<style scoped>\n",
       "    .dataframe tbody tr th:only-of-type {\n",
       "        vertical-align: middle;\n",
       "    }\n",
       "\n",
       "    .dataframe tbody tr th {\n",
       "        vertical-align: top;\n",
       "    }\n",
       "\n",
       "    .dataframe thead th {\n",
       "        text-align: right;\n",
       "    }\n",
       "</style>\n",
       "<table border=\"1\" class=\"dataframe\">\n",
       "  <thead>\n",
       "    <tr style=\"text-align: right;\">\n",
       "      <th></th>\n",
       "      <th>DayMins</th>\n",
       "      <th>CustServCalls</th>\n",
       "      <th>Churn</th>\n",
       "      <th>IntlPlan</th>\n",
       "      <th>DayCharge</th>\n",
       "      <th>IntlCharge</th>\n",
       "    </tr>\n",
       "  </thead>\n",
       "  <tbody>\n",
       "    <tr>\n",
       "      <th>DayMins</th>\n",
       "      <td>1.000000</td>\n",
       "      <td>-0.013423</td>\n",
       "      <td>0.205151</td>\n",
       "      <td>0.049396</td>\n",
       "      <td>1.000000</td>\n",
       "      <td>-0.010092</td>\n",
       "    </tr>\n",
       "    <tr>\n",
       "      <th>CustServCalls</th>\n",
       "      <td>-0.013423</td>\n",
       "      <td>1.000000</td>\n",
       "      <td>0.208750</td>\n",
       "      <td>-0.024522</td>\n",
       "      <td>-0.013427</td>\n",
       "      <td>-0.009675</td>\n",
       "    </tr>\n",
       "    <tr>\n",
       "      <th>Churn</th>\n",
       "      <td>0.205151</td>\n",
       "      <td>0.208750</td>\n",
       "      <td>1.000000</td>\n",
       "      <td>0.259852</td>\n",
       "      <td>0.205151</td>\n",
       "      <td>0.068259</td>\n",
       "    </tr>\n",
       "    <tr>\n",
       "      <th>IntlPlan</th>\n",
       "      <td>0.049396</td>\n",
       "      <td>-0.024522</td>\n",
       "      <td>0.259852</td>\n",
       "      <td>1.000000</td>\n",
       "      <td>0.049398</td>\n",
       "      <td>0.045780</td>\n",
       "    </tr>\n",
       "    <tr>\n",
       "      <th>DayCharge</th>\n",
       "      <td>1.000000</td>\n",
       "      <td>-0.013427</td>\n",
       "      <td>0.205151</td>\n",
       "      <td>0.049398</td>\n",
       "      <td>1.000000</td>\n",
       "      <td>-0.010094</td>\n",
       "    </tr>\n",
       "    <tr>\n",
       "      <th>IntlCharge</th>\n",
       "      <td>-0.010092</td>\n",
       "      <td>-0.009675</td>\n",
       "      <td>0.068259</td>\n",
       "      <td>0.045780</td>\n",
       "      <td>-0.010094</td>\n",
       "      <td>1.000000</td>\n",
       "    </tr>\n",
       "  </tbody>\n",
       "</table>\n",
       "</div>"
      ],
      "text/plain": [
       "                DayMins  CustServCalls     Churn  IntlPlan  DayCharge  \\\n",
       "DayMins        1.000000      -0.013423  0.205151  0.049396   1.000000   \n",
       "CustServCalls -0.013423       1.000000  0.208750 -0.024522  -0.013427   \n",
       "Churn          0.205151       0.208750  1.000000  0.259852   0.205151   \n",
       "IntlPlan       0.049396      -0.024522  0.259852  1.000000   0.049398   \n",
       "DayCharge      1.000000      -0.013427  0.205151  0.049398   1.000000   \n",
       "IntlCharge    -0.010092      -0.009675  0.068259  0.045780  -0.010094   \n",
       "\n",
       "               IntlCharge  \n",
       "DayMins         -0.010092  \n",
       "CustServCalls   -0.009675  \n",
       "Churn            0.068259  \n",
       "IntlPlan         0.045780  \n",
       "DayCharge       -0.010094  \n",
       "IntlCharge       1.000000  "
      ]
     },
     "execution_count": 8,
     "metadata": {},
     "output_type": "execute_result"
    }
   ],
   "source": [
    "#Find the correlation of all independent variables with dependent varible \n",
    "#and drop variables whose correlation lies in the range -0.1 to 0.1.\n",
    "\n",
    "df3 = df2.copy()\n",
    "for i in df3.columns[:-1]:\n",
    "    l = df3[i].corr(df3[\"Churn\"])\n",
    "    if float(l) < -0.1 or float(l) < 0.1:\n",
    "        df3.pop(i)\n",
    "print(df3.columns)\n",
    "print(len(df3.columns))\n",
    "df3.corr()"
   ]
  },
  {
   "cell_type": "markdown",
   "metadata": {},
   "source": [
    "### Through coorelation of all independent variables with 'churn', the number of columns have been reduced from 17 (independent variables) to 5 variables -  DayMins, CustServCalls, IntlPlan, DayCharge,Intlcharge"
   ]
  },
  {
   "cell_type": "code",
   "execution_count": 9,
   "metadata": {
    "collapsed": true
   },
   "outputs": [],
   "source": [
    "from sklearn.model_selection import train_test_split\n",
    "from sklearn.tree import DecisionTreeClassifier\n",
    "# calculate accuracy measures and confusion matrix\n",
    "from sklearn import metrics"
   ]
  },
  {
   "cell_type": "code",
   "execution_count": 10,
   "metadata": {
    "collapsed": true
   },
   "outputs": [],
   "source": [
    "X = df3.drop([\"Churn\"],axis=1).values\n",
    "y = df3[\"Churn\"].values\n",
    "test_size = 0.30 # taking 70:30 training and test set\n",
    "seed = 7  # Random numbmer seeding for reapeatability of the code\n",
    "X_train, X_test, y_train, y_test = train_test_split(X, y, test_size=test_size, random_state=seed)"
   ]
  },
  {
   "cell_type": "code",
   "execution_count": 11,
   "metadata": {},
   "outputs": [
    {
     "name": "stdout",
     "output_type": "stream",
     "text": [
      "Training data length: 2333\n",
      "Test data length: 1000\n"
     ]
    }
   ],
   "source": [
    "print(\"Training data length:\", len(X_train))\n",
    "print(\"Test data length:\", len(X_test))"
   ]
  },
  {
   "cell_type": "code",
   "execution_count": 12,
   "metadata": {},
   "outputs": [
    {
     "data": {
      "text/plain": [
       "DecisionTreeClassifier(class_weight=None, criterion='entropy', max_depth=None,\n",
       "            max_features=None, max_leaf_nodes=None,\n",
       "            min_impurity_decrease=0.0, min_impurity_split=None,\n",
       "            min_samples_leaf=1, min_samples_split=2,\n",
       "            min_weight_fraction_leaf=0.0, presort=False, random_state=None,\n",
       "            splitter='best')"
      ]
     },
     "execution_count": 12,
     "metadata": {},
     "output_type": "execute_result"
    }
   ],
   "source": [
    "# invoking the decision tree classifier function. Using 'entropy' method of finding the split columns.  \n",
    "                           \n",
    "dt_model = DecisionTreeClassifier(criterion = 'entropy' )\n",
    "dt_model.fit(X_train, y_train)"
   ]
  },
  {
   "cell_type": "code",
   "execution_count": 13,
   "metadata": {
    "collapsed": true
   },
   "outputs": [],
   "source": [
    "test_pred = dt_model.predict(X_test)"
   ]
  },
  {
   "cell_type": "code",
   "execution_count": 16,
   "metadata": {},
   "outputs": [
    {
     "name": "stdout",
     "output_type": "stream",
     "text": [
      "Decision Tree Accuracy  Score: 0.861\n",
      "Decision Tree Precision Score: 0.5514705882352942\n",
      "Decision Tree Recall    Score: 0.49019607843137253\n",
      "Confusion Matrix:\n",
      "[[786  61]\n",
      " [ 78  75]]\n"
     ]
    }
   ],
   "source": [
    "print(\"Decision Tree Accuracy  Score:\",dt_model.score(X_test , y_test))\n",
    "print(\"Decision Tree Precision Score:\",metrics.precision_score(y_test,test_pred))\n",
    "print(\"Decision Tree Recall    Score:\",metrics.recall_score(y_test,test_pred))\n",
    "print(\"Confusion Matrix:\")\n",
    "print(metrics.confusion_matrix(y_test, test_pred))"
   ]
  },
  {
   "cell_type": "markdown",
   "metadata": {},
   "source": [
    "## Hyper parameter turning - max_depth"
   ]
  },
  {
   "cell_type": "code",
   "execution_count": 21,
   "metadata": {},
   "outputs": [
    {
     "data": {
      "text/plain": [
       "0.709088594115332"
      ]
     },
     "execution_count": 21,
     "metadata": {},
     "output_type": "execute_result"
    }
   ],
   "source": [
    "#The first parameter to tune is max_depth. This indicates how deep the tree can be. \n",
    "#The deeper the tree, the more splits it has and it captures more information about the data. \n",
    "#We fit a decision tree with depths ranging from 1 to 32 and plot the training and test auc (area under curve) scores\n",
    "from sklearn.metrics import roc_curve, auc\n",
    "false_positive_rate, true_positive_rate, thresholds = roc_curve(y_test, test_pred)\n",
    "roc_auc = auc(false_positive_rate, true_positive_rate)\n",
    "roc_auc"
   ]
  },
  {
   "cell_type": "code",
   "execution_count": 22,
   "metadata": {},
   "outputs": [
    {
     "data": {
      "image/png": "[encoded data removed]",
      "text/plain": [
       "<Figure size 432x288 with 1 Axes>"
      ]
     },
     "metadata": {},
     "output_type": "display_data"
    }
   ],
   "source": [
    "import matplotlib.pyplot as plt\n",
    "max_depths = np.linspace(1, 10, 10, endpoint=True)\n",
    "train_results = []\n",
    "test_results = []\n",
    "for max_depth in max_depths:\n",
    "   dt = DecisionTreeClassifier(max_depth=max_depth)\n",
    "   dt.fit(X_train, y_train)\n",
    "   train_pred = dt.predict(X_train)\n",
    "   false_positive_rate, true_positive_rate, thresholds = roc_curve(y_train, train_pred)\n",
    "   roc_auc = auc(false_positive_rate, true_positive_rate)\n",
    "   # Add auc score to previous train results\n",
    "   train_results.append(roc_auc)\n",
    "   y_pred = dt.predict(X_test)\n",
    "   false_positive_rate, true_positive_rate, thresholds = roc_curve(y_test, y_pred)\n",
    "   roc_auc = auc(false_positive_rate, true_positive_rate)\n",
    "   # Add auc score to previous test results\n",
    "   test_results.append(roc_auc)\n",
    "from matplotlib.legend_handler import HandlerLine2D\n",
    "line1, = plt.plot(max_depths, train_results, 'b', label=\"Train AUC\")\n",
    "line2, = plt.plot(max_depths, test_results, 'r', label=\"Test AUC\")\n",
    "plt.legend(handler_map={line1: HandlerLine2D(numpoints=2)})\n",
    "plt.ylabel('AUC score')\n",
    "plt.xlabel('Tree depth')\n",
    "plt.show()"
   ]
  },
  {
   "cell_type": "markdown",
   "metadata": {},
   "source": [
    "### max_depth: We see that our model overfits for large depth values. The tree predicts all of the train data, however, it fails to generalize the findings for new data."
   ]
  },
  {
   "cell_type": "markdown",
   "metadata": {},
   "source": [
    "## Hyper parameter tuning - min_samples_leaf"
   ]
  },
  {
   "cell_type": "code",
   "execution_count": 23,
   "metadata": {},
   "outputs": [
    {
     "name": "stdout",
     "output_type": "stream",
     "text": [
      "[0.05 0.1  0.15 0.2  0.25]\n"
     ]
    },
    {
     "data": {
      "image/png": "[encoded data removed]",
      "text/plain": [
       "<Figure size 432x288 with 1 Axes>"
      ]
     },
     "metadata": {},
     "output_type": "display_data"
    }
   ],
   "source": [
    "min_samples_leafs = np.linspace(0.05, 0.25, 5, endpoint=True)\n",
    "print(min_samples_leafs)\n",
    "train_results = []\n",
    "test_results = []\n",
    "for min_samples_leaf in min_samples_leafs:\n",
    "   dt = DecisionTreeClassifier(min_samples_leaf=min_samples_leaf)\n",
    "   dt.fit(X_train, y_train)\n",
    "   train_pred = dt.predict(X_train)\n",
    "   false_positive_rate, true_positive_rate, thresholds = roc_curve(y_train, train_pred)\n",
    "   roc_auc = auc(false_positive_rate, true_positive_rate)\n",
    "   train_results.append(roc_auc)\n",
    "   y_pred = dt.predict(X_test)\n",
    "   false_positive_rate, true_positive_rate, thresholds = roc_curve(y_test, y_pred)\n",
    "   roc_auc = auc(false_positive_rate, true_positive_rate)\n",
    "   test_results.append(roc_auc)\n",
    "from matplotlib.legend_handler import HandlerLine2D\n",
    "line1, = plt.plot(min_samples_leafs, train_results, 'b', label=\"Train AUC\")\n",
    "line2, = plt.plot(min_samples_leafs, test_results, 'r', label=\"Test AUC\")\n",
    "plt.legend(handler_map={line1: HandlerLine2D(numpoints=2)})\n",
    "plt.ylabel('AUC score')\n",
    "plt.xlabel('min samples leaf')\n",
    "plt.show()"
   ]
  },
  {
   "cell_type": "markdown",
   "metadata": {},
   "source": [
    "### min_samples_leaf: We see that our model underfits for large min_samples_leaf values."
   ]
  },
  {
   "cell_type": "markdown",
   "metadata": {},
   "source": [
    "# The optimal model considering the hyper parameters is with max_depth=6 and min_samples_leaf=1"
   ]
  },
  {
   "cell_type": "code",
   "execution_count": 24,
   "metadata": {},
   "outputs": [
    {
     "data": {
      "text/plain": [
       "DecisionTreeClassifier(class_weight={0: 0.5, 1: 0.5}, criterion='entropy',\n",
       "            max_depth=6, max_features=None, max_leaf_nodes=None,\n",
       "            min_impurity_decrease=0.0, min_impurity_split=None,\n",
       "            min_samples_leaf=1, min_samples_split=2,\n",
       "            min_weight_fraction_leaf=0.0, presort=False, random_state=None,\n",
       "            splitter='best')"
      ]
     },
     "execution_count": 24,
     "metadata": {},
     "output_type": "execute_result"
    }
   ],
   "source": [
    "dt_model = DecisionTreeClassifier(criterion = 'entropy', class_weight={0:.5,1:.5}, max_depth = 6, min_samples_leaf=1)\n",
    "dt_model.fit(X_train, y_train)"
   ]
  },
  {
   "cell_type": "code",
   "execution_count": 25,
   "metadata": {
    "collapsed": true
   },
   "outputs": [],
   "source": [
    "test_pred = dt_model.predict(X_test)"
   ]
  },
  {
   "cell_type": "code",
   "execution_count": 26,
   "metadata": {},
   "outputs": [
    {
     "name": "stdout",
     "output_type": "stream",
     "text": [
      "Regularized Decision Tree Accuracy  Score: 0.885\n",
      "Regularized Decision Tree Precision Score: 0.7638888888888888\n",
      "Regularized Decision Tree Recall    Score: 0.35947712418300654\n",
      "Confusion Matrix:\n",
      "[[830  17]\n",
      " [ 98  55]]\n"
     ]
    }
   ],
   "source": [
    "print(\"Regularized Decision Tree Accuracy  Score:\",dt_model.score(X_test , y_test))\n",
    "print(\"Regularized Decision Tree Precision Score:\",metrics.precision_score(y_test,test_pred))\n",
    "print(\"Regularized Decision Tree Recall    Score:\",metrics.recall_score(y_test,test_pred))\n",
    "print(\"Confusion Matrix:\")\n",
    "print(metrics.confusion_matrix(y_test, test_pred))"
   ]
  },
  {
   "cell_type": "code",
   "execution_count": 27,
   "metadata": {
    "collapsed": true
   },
   "outputs": [],
   "source": [
    "model_scores = [[]]\n",
    "model_scores = [[\"Regulaized DT\",dt_model.score(X_test,y_test),metrics.precision_score(y_test,test_pred),metrics.recall_score(y_test,test_pred)]]"
   ]
  },
  {
   "cell_type": "code",
   "execution_count": 28,
   "metadata": {},
   "outputs": [
    {
     "name": "stdout",
     "output_type": "stream",
     "text": [
      "[['Regulaized DT', 0.885, 0.7638888888888888, 0.35947712418300654]]\n"
     ]
    }
   ],
   "source": [
    "print(model_scores)"
   ]
  },
  {
   "cell_type": "markdown",
   "metadata": {},
   "source": [
    "# Ensemble Learning - GradientBoost"
   ]
  },
  {
   "cell_type": "code",
   "execution_count": 29,
   "metadata": {
    "collapsed": true
   },
   "outputs": [],
   "source": [
    "from sklearn.ensemble import GradientBoostingClassifier\n",
    "gbcl = GradientBoostingClassifier(n_estimators = 50, learning_rate = 0.09, max_depth=6)\n",
    "gbcl = gbcl.fit(X_train, y_train)"
   ]
  },
  {
   "cell_type": "code",
   "execution_count": 30,
   "metadata": {
    "collapsed": true
   },
   "outputs": [],
   "source": [
    "test_pred = gbcl.predict(X_test)"
   ]
  },
  {
   "cell_type": "code",
   "execution_count": 31,
   "metadata": {},
   "outputs": [
    {
     "name": "stdout",
     "output_type": "stream",
     "text": [
      "GradientBoost Accuracy   Score: 0.873\n",
      "Gradient Boost Precision Score: 0.625\n",
      "Gradient Boost Recall    Score: 0.42483660130718953\n",
      "Confusion Matrix:\n",
      "[[808  39]\n",
      " [ 88  65]]\n"
     ]
    }
   ],
   "source": [
    "print(\"GradientBoost Accuracy   Score:\",gbcl.score(X_test , y_test))\n",
    "print(\"Gradient Boost Precision Score:\",metrics.precision_score(y_test,test_pred))\n",
    "print(\"Gradient Boost Recall    Score:\",metrics.recall_score(y_test,test_pred))\n",
    "print(\"Confusion Matrix:\")\n",
    "print(metrics.confusion_matrix(y_test, test_pred))"
   ]
  },
  {
   "cell_type": "code",
   "execution_count": 32,
   "metadata": {
    "collapsed": true
   },
   "outputs": [],
   "source": [
    "model_scores.append([\"GradientBoost\",gbcl.score(X_test,y_test),metrics.precision_score(y_test,test_pred),metrics.recall_score(y_test,test_pred)])"
   ]
  },
  {
   "cell_type": "markdown",
   "metadata": {},
   "source": [
    "# Ensemble Learning - Random Forest"
   ]
  },
  {
   "cell_type": "code",
   "execution_count": 33,
   "metadata": {
    "collapsed": true
   },
   "outputs": [],
   "source": [
    "from sklearn.ensemble import RandomForestClassifier\n",
    "rfcl = RandomForestClassifier(n_estimators = 6)\n",
    "rfcl = rfcl.fit(X_train, y_train)"
   ]
  },
  {
   "cell_type": "code",
   "execution_count": 34,
   "metadata": {
    "collapsed": true
   },
   "outputs": [],
   "source": [
    "test_pred = rfcl.predict(X_test)"
   ]
  },
  {
   "cell_type": "code",
   "execution_count": 35,
   "metadata": {},
   "outputs": [
    {
     "name": "stdout",
     "output_type": "stream",
     "text": [
      "Random Forest Accuracy  Score: 0.874\n",
      "Random Forest Precision Score: 0.6285714285714286\n",
      "Random Forest Recall    Score: 0.43137254901960786\n",
      "Confusion Matrix:\n",
      "[[808  39]\n",
      " [ 87  66]]\n"
     ]
    }
   ],
   "source": [
    "print(\"Random Forest Accuracy  Score:\",rfcl.score(X_test , y_test))\n",
    "print(\"Random Forest Precision Score:\",metrics.precision_score(y_test,test_pred))\n",
    "print(\"Random Forest Recall    Score:\",metrics.recall_score(y_test,test_pred))\n",
    "print(\"Confusion Matrix:\")\n",
    "print(metrics.confusion_matrix(y_test, test_pred))"
   ]
  },
  {
   "cell_type": "code",
   "execution_count": 36,
   "metadata": {
    "collapsed": true
   },
   "outputs": [],
   "source": [
    "model_scores.append([\"Random Forest\",rfcl.score(X_test,y_test),metrics.precision_score(y_test,test_pred),metrics.recall_score(y_test,test_pred)])"
   ]
  },
  {
   "cell_type": "code",
   "execution_count": 37,
   "metadata": {
    "collapsed": true
   },
   "outputs": [],
   "source": [
    "m_scores = pd.DataFrame(model_scores,columns=[\"Model\",\"Accuracy\",\"Precision\",\"Recall\"])"
   ]
  },
  {
   "cell_type": "code",
   "execution_count": 38,
   "metadata": {},
   "outputs": [
    {
     "data": {
      "text/html": [
       "<div>\n",
       "<style scoped>\n",
       "    .dataframe tbody tr th:only-of-type {\n",
       "        vertical-align: middle;\n",
       "    }\n",
       "\n",
       "    .dataframe tbody tr th {\n",
       "        vertical-align: top;\n",
       "    }\n",
       "\n",
       "    .dataframe thead th {\n",
       "        text-align: right;\n",
       "    }\n",
       "</style>\n",
       "<table border=\"1\" class=\"dataframe\">\n",
       "  <thead>\n",
       "    <tr style=\"text-align: right;\">\n",
       "      <th></th>\n",
       "      <th>Model</th>\n",
       "      <th>Accuracy</th>\n",
       "      <th>Precision</th>\n",
       "      <th>Recall</th>\n",
       "    </tr>\n",
       "  </thead>\n",
       "  <tbody>\n",
       "    <tr>\n",
       "      <th>0</th>\n",
       "      <td>Regulaized DT</td>\n",
       "      <td>0.885</td>\n",
       "      <td>0.763889</td>\n",
       "      <td>0.359477</td>\n",
       "    </tr>\n",
       "    <tr>\n",
       "      <th>1</th>\n",
       "      <td>GradientBoost</td>\n",
       "      <td>0.873</td>\n",
       "      <td>0.625000</td>\n",
       "      <td>0.424837</td>\n",
       "    </tr>\n",
       "    <tr>\n",
       "      <th>2</th>\n",
       "      <td>Random Forest</td>\n",
       "      <td>0.874</td>\n",
       "      <td>0.628571</td>\n",
       "      <td>0.431373</td>\n",
       "    </tr>\n",
       "  </tbody>\n",
       "</table>\n",
       "</div>"
      ],
      "text/plain": [
       "           Model  Accuracy  Precision    Recall\n",
       "0  Regulaized DT     0.885   0.763889  0.359477\n",
       "1  GradientBoost     0.873   0.625000  0.424837\n",
       "2  Random Forest     0.874   0.628571  0.431373"
      ]
     },
     "execution_count": 38,
     "metadata": {},
     "output_type": "execute_result"
    }
   ],
   "source": [
    "m_scores"
   ]
  },
  {
   "cell_type": "markdown",
   "metadata": {},
   "source": [
    "# Conclusion\n",
    "\n",
    "## The accuracy of all the models are almost similar \n",
    "\n",
    "## Aggregated/ensemble models are not universally better than their \"single\" counterparts, they are better if and only if the single models suffer from instability.\n",
    "\n",
    "## Regularised Decision Tree is marginally better than GradientBoost and RandomForest considering the Overall Accuracy. \n",
    "\n",
    "## Considering Accuracy, Precision and Recall, Random Forest model is the best fit model for the given data set. "
   ]
  },
  {
   "cell_type": "code",
   "execution_count": null,
   "metadata": {
    "collapsed": true
   },
   "outputs": [],
   "source": []
  }
 ],
 "metadata": {
  "kernelspec": {
   "display_name": "Python 3",
   "language": "python",
   "name": "python3"
  },
  "language_info": {
   "codemirror_mode": {
    "name": "ipython",
    "version": 3
   },
   "file_extension": ".py",
   "mimetype": "text/x-python",
   "name": "python",
   "nbconvert_exporter": "python",
   "pygments_lexer": "ipython3",
   "version": "3.6.3"
  }
 },
 "nbformat": 4,
 "nbformat_minor": 2
}
